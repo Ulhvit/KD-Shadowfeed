{
 "cells": [
  {
   "cell_type": "code",
   "execution_count": 2,
   "id": "eea1a46c-6e5e-4e98-af2d-cd8a48c65359",
   "metadata": {},
   "outputs": [],
   "source": [
    "from bs4 import BeautifulSoup, SoupStrainer\n",
    "from datetime import datetime\n",
    "import dateparser\n",
    "import sqlite3\n",
    "from pympler import asizeof"
   ]
  },
  {
   "cell_type": "code",
   "execution_count": 3,
   "id": "da69569a-69f5-4870-8092-973e46e12ff3",
   "metadata": {},
   "outputs": [],
   "source": [
    "con = sqlite3.connect(\"/home/ulhvit/Storage/KD-Shadowfeed/KD-Shadowfeed/db/yt_watch_history.db\")\n",
    "cur = con.cursor()"
   ]
  },
  {
   "cell_type": "code",
   "execution_count": null,
   "id": "c37b806f-f10a-4531-96f5-e5d50bc2caa1",
   "metadata": {},
   "outputs": [],
   "source": []
  },
  {
   "cell_type": "code",
   "execution_count": 4,
   "id": "d77cd7a0-c37c-4e92-8ebe-4d5fb3de0736",
   "metadata": {},
   "outputs": [],
   "source": [
    "#Extraction"
   ]
  },
  {
   "cell_type": "code",
   "execution_count": 5,
   "id": "a79bf610-c4f3-4d55-89fa-0a5acbb9d2be",
   "metadata": {},
   "outputs": [],
   "source": [
    "only_content_cells = SoupStrainer(class_='content-cell mdl-cell mdl-cell--6-col mdl-typography--body-1')"
   ]
  },
  {
   "cell_type": "code",
   "execution_count": 6,
   "id": "44cd86cc-5dcc-49c4-b74b-ac5e7302cece",
   "metadata": {},
   "outputs": [],
   "source": [
    "with open(\"/home/ulhvit/Storage/KD-Shadowfeed/KD-Shadowfeed/data/watch_hist.html\") as f:\n",
    "    soup = BeautifulSoup(f, \"lxml\", parse_only=only_content_cells)"
   ]
  },
  {
   "cell_type": "code",
   "execution_count": 7,
   "id": "d4f1b18a-81f2-4054-bb1f-b9d1f576986e",
   "metadata": {},
   "outputs": [
    {
     "name": "stdout",
     "output_type": "stream",
     "text": [
      "52.277435302734375 MiB\n"
     ]
    }
   ],
   "source": [
    "print(asizeof.asizeof(soup) / (1024**2), \"MiB\")"
   ]
  },
  {
   "cell_type": "code",
   "execution_count": 30,
   "id": "398e4fba-fd99-46b3-a257-b96bd62b090d",
   "metadata": {},
   "outputs": [
    {
     "name": "stdout",
     "output_type": "stream",
     "text": [
      "<div class=\"content-cell mdl-cell mdl-cell--6-col mdl-typography--body-1\">\n",
      " Obejrzano:\n",
      " <a href=\"https://www.youtube.com/watch?v=pRqJ-hGKpcc\">\n",
      "  Westworld scenes of Dr  Robert Ford (Part 2)\n",
      " </a>\n",
      " <br/>\n",
      " <a href=\"https://www.youtube.com/channel/UCDN57CLF48F9GxzXl6D-9-w\">\n",
      "  camai\n",
      " </a>\n",
      " <br/>\n",
      " 23 lip 2025, 17:04:10 CEST\n",
      "</div>\n",
      "\n",
      "<div class=\"content-cell mdl-cell mdl-cell--6-col mdl-typography--body-1\">\n",
      " Obejrzano:\n",
      " <a href=\"https://www.youtube.com/watch?v=hV2Q41o-rwE\">\n",
      "  Westworld scenes of Dr. Robert Ford (Part 1)\n",
      " </a>\n",
      " <br/>\n",
      " <a href=\"https://www.youtube.com/channel/UCDN57CLF48F9GxzXl6D-9-w\">\n",
      "  camai\n",
      " </a>\n",
      " <br/>\n",
      " 23 lip 2025, 15:52:43 CEST\n",
      "</div>\n",
      "\n",
      "<div class=\"content-cell mdl-cell mdl-cell--6-col mdl-typography--body-1\">\n",
      " Obejrzano:\n",
      " <a href=\"https://www.youtube.com/watch?v=DgyKBO-6Qtc\">\n",
      "  [Westworld] Ford \"Goodbye my friend\"\n",
      " </a>\n",
      " <br/>\n",
      " <a href=\"https://www.youtube.com/channel/UCAsP4Y8DOHFpc5jw1ikl8NA\">\n",
      "  Westworld Best Scenes\n",
      " </a>\n",
      " <br/>\n",
      " 23 lip 2025, 15:47:53 CEST\n",
      "</div>\n",
      "\n",
      "<div class=\"content-cell mdl-cell mdl-cell--6-col mdl-typography--body-1\">\n",
      " Obejrzano:\n",
      " <a href=\"https://www.youtube.com/watch?v=Z7NF9Q6_BUg\">\n",
      "  \"Call The Cops!\" #standup #crowdwork #hecklers #jimmycarr #roasts\n",
      " </a>\n",
      " <br/>\n",
      " <a href=\"https://www.youtube.com/channel/UCBhh_HLmUldwnpQInBSPhDA\">\n",
      "  More Jimmy Carr\n",
      " </a>\n",
      " <br/>\n",
      " 23 lip 2025, 15:46:25 CEST\n",
      "</div>\n",
      "\n",
      "<div class=\"content-cell mdl-cell mdl-cell--6-col mdl-typography--body-1\">\n",
      " Obejrzano:\n",
      " <a href=\"https://www.youtube.com/watch?v=13wGuxAydiU\">\n",
      "  @logaagm  #cucumber #cucumbersalad #jalepeñopoppers\n",
      " </a>\n",
      " <br/>\n",
      " <a href=\"https://www.youtube.com/channel/UCEMj2h7pP4QWkoGnSmaiiYw\">\n",
      "  The Plant Slant\n",
      " </a>\n",
      " <br/>\n",
      " 23 lip 2025, 15:46:24 CEST\n",
      "</div>\n",
      "\n"
     ]
    }
   ],
   "source": [
    "#content_cell = soup.div.next_sibling\n",
    "count = 0\n",
    "print(soup.div.prettify())\n",
    "for div in soup.div.next_siblings:\n",
    "    if count <= 3:\n",
    "        print(div.prettify())\n",
    "        count+=1\n",
    "    else:\n",
    "        break"
   ]
  },
  {
   "cell_type": "code",
   "execution_count": 23,
   "id": "e8856d78-b85e-4e4e-b4ca-d0a248ee751e",
   "metadata": {},
   "outputs": [
    {
     "name": "stdout",
     "output_type": "stream",
     "text": [
      "'Obejrzano:\\xa0'\n",
      "<a href=\"https://www.youtube.com/watch?v=pRqJ-hGKpcc\">Westworld scenes of Dr  Robert Ford (Part 2)</a>\n",
      "'Westworld scenes of Dr  Robert Ford (Part 2)'\n",
      "<br/>\n",
      "<a href=\"https://www.youtube.com/channel/UCDN57CLF48F9GxzXl6D-9-w\">camai</a>\n",
      "'camai'\n",
      "<br/>\n",
      "'23 lip 2025, 17:04:10 CEST'\n"
     ]
    }
   ],
   "source": [
    "for sibling in content_cell.descendants:\n",
    "    print(repr(sibling))"
   ]
  },
  {
   "cell_type": "code",
   "execution_count": null,
   "id": "2a1720b2-a8a8-477c-97b9-27d46b53d4d4",
   "metadata": {},
   "outputs": [],
   "source": []
  },
  {
   "cell_type": "code",
   "execution_count": 25,
   "id": "326390cd-b96a-4406-967b-6f76556d4eff",
   "metadata": {},
   "outputs": [],
   "source": [
    "#Transform"
   ]
  },
  {
   "cell_type": "code",
   "execution_count": 27,
   "id": "be4ce08b-6e14-4681-8854-735a67bdb2b3",
   "metadata": {},
   "outputs": [],
   "source": [
    "vid_data_links = [link['href'] for link in vid_data.find_all(\"a\")]"
   ]
  },
  {
   "cell_type": "code",
   "execution_count": 23,
   "id": "7a234bad-75a2-4943-a8c4-b33b075829dc",
   "metadata": {},
   "outputs": [
    {
     "name": "stdout",
     "output_type": "stream",
     "text": [
      "['Obejrzano:', 'Westworld scenes of Dr  Robert Ford (Part 2)', 'camai', '23 lip 2025, 17:04:10 CEST']\n"
     ]
    }
   ],
   "source": [
    "vid_data_text = [text for text in vid_data.stripped_strings]\n",
    "print(vid_data_text)"
   ]
  },
  {
   "cell_type": "code",
   "execution_count": null,
   "id": "01198399-b741-4b15-9666-1e59b61b7105",
   "metadata": {},
   "outputs": [],
   "source": []
  }
 ],
 "metadata": {
  "kernelspec": {
   "display_name": "Python 3 (Spyder)",
   "language": "python3",
   "name": "python3"
  },
  "language_info": {
   "codemirror_mode": {
    "name": "ipython",
    "version": 3
   },
   "file_extension": ".py",
   "mimetype": "text/x-python",
   "name": "python",
   "nbconvert_exporter": "python",
   "pygments_lexer": "ipython3",
   "version": "3.13.2"
  }
 },
 "nbformat": 4,
 "nbformat_minor": 5
}
