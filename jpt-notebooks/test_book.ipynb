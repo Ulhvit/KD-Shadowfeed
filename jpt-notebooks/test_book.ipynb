{
 "cells": [
  {
   "cell_type": "code",
   "execution_count": 7,
   "id": "eea1a46c-6e5e-4e98-af2d-cd8a48c65359",
   "metadata": {},
   "outputs": [],
   "source": [
    "from datetime import datetime\n",
    "import dateparser\n",
    "import sqlite3\n",
    "from pympler import asizeof\n",
    "from lxml import etree\n",
    "import sys\n",
    "sys.path.append('/home/ulhvit/Storage/KD-Shadowfeed/KD-Shadowfeed/scripts/')\n",
    "import re\n",
    "import unicodedata"
   ]
  },
  {
   "cell_type": "code",
   "execution_count": 1,
   "id": "e03d4ee8-e9ff-4837-a48c-ea1ca2e19ecf",
   "metadata": {},
   "outputs": [],
   "source": [
    "WATCH_HIST = \"/home/ulhvit/Storage/KD-Shadowfeed/KD-Shadowfeed/data/watch_hist.html\""
   ]
  },
  {
   "cell_type": "code",
   "execution_count": 2,
   "id": "da69569a-69f5-4870-8092-973e46e12ff3",
   "metadata": {},
   "outputs": [],
   "source": [
    "#con = sqlite3.connect(\"/home/ulhvit/Storage/KD-Shadowfeed/KD-Shadowfeed/db/yt_watch_history.db\")\n",
    "#cur = con.cursor()"
   ]
  },
  {
   "cell_type": "code",
   "execution_count": 3,
   "id": "d77cd7a0-c37c-4e92-8ebe-4d5fb3de0736",
   "metadata": {},
   "outputs": [],
   "source": [
    "#Extraction"
   ]
  },
  {
   "cell_type": "code",
   "execution_count": 13,
   "id": "d3c2263b-5554-44dd-9e56-d40ba6726f53",
   "metadata": {},
   "outputs": [],
   "source": [
    "gener_output = ['https://www.youtube.com/watch?v=pRqJ-hGKpcc', 'Obejrzano:Â\\xa0', 'Westworld scenes of Dr  Robert Ford (Part 2)', 'camai', '23 lip 2025, 17:04:10 CEST']"
   ]
  },
  {
   "cell_type": "code",
   "execution_count": 7,
   "id": "d4f1b18a-81f2-4054-bb1f-b9d1f576986e",
   "metadata": {},
   "outputs": [
    {
     "name": "stdout",
     "output_type": "stream",
     "text": [
      "0.00045013427734375 MiB\n"
     ]
    }
   ],
   "source": [
    "print(asizeof.asizeof(gener_output) / (1024**2), \"MiB\")"
   ]
  },
  {
   "cell_type": "code",
   "execution_count": 14,
   "id": "3106bd51-cd94-4625-9e83-de500fc95347",
   "metadata": {},
   "outputs": [
    {
     "name": "stdout",
     "output_type": "stream",
     "text": [
      "Title: Westworld scenes of Dr  Robert Ford (Part 2)\n",
      "Channel: camai\n",
      "Link: https://www.youtube.com/watch?v=pRqJ-hGKpcc\n",
      "Time: 23 lip 2025, 17:04:10 CEST\n"
     ]
    }
   ],
   "source": [
    "vid_link = gener_output[0] if gener_output[0] else None\n",
    "vid_title = gener_output[2] if gener_output[2] else None\n",
    "vid_channel = gener_output[3] if gener_output[3] else None\n",
    "timestamp = gener_output[4] if gener_output[4] else None\n",
    "print(f\"Title: {vid_title}\\nChannel: {vid_channel}\\nLink: {vid_link}\\nTime: {timestamp}\")"
   ]
  },
  {
   "cell_type": "code",
   "execution_count": 6,
   "id": "398e4fba-fd99-46b3-a257-b96bd62b090d",
   "metadata": {},
   "outputs": [],
   "source": [
    "import vid_data_cleaner as vdc"
   ]
  },
  {
   "cell_type": "code",
   "execution_count": 6,
   "id": "2a1720b2-a8a8-477c-97b9-27d46b53d4d4",
   "metadata": {},
   "outputs": [],
   "source": []
  },
  {
   "cell_type": "code",
   "execution_count": null,
   "id": "01198399-b741-4b15-9666-1e59b61b7105",
   "metadata": {},
   "outputs": [],
   "source": []
  }
 ],
 "metadata": {
  "kernelspec": {
   "display_name": "Python 3 (Spyder)",
   "language": "python3",
   "name": "python3"
  },
  "language_info": {
   "codemirror_mode": {
    "name": "ipython",
    "version": 3
   },
   "file_extension": ".py",
   "mimetype": "text/x-python",
   "name": "python",
   "nbconvert_exporter": "python",
   "pygments_lexer": "ipython3",
   "version": "3.13.2"
  }
 },
 "nbformat": 4,
 "nbformat_minor": 5
}
