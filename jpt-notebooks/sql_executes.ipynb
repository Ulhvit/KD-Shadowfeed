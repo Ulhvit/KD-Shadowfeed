{
 "cells": [
  {
   "cell_type": "code",
   "execution_count": 1,
   "id": "66ddb4f5-f24b-4eb1-9996-bd962c501bef",
   "metadata": {},
   "outputs": [],
   "source": [
    "import sqlite3 as sql"
   ]
  },
  {
   "cell_type": "code",
   "execution_count": 2,
   "id": "65a74409-9247-48fa-8eca-cbcef98c51fb",
   "metadata": {},
   "outputs": [],
   "source": [
    "WATCH_HIST_DB = \"/home/ulhvit/Storage/KD-Shadowfeed/KD-Shadowfeed/db/yt_watch_history.db\""
   ]
  },
  {
   "cell_type": "code",
   "execution_count": 3,
   "id": "7cf11299-e3fc-4a96-9048-748576d186c2",
   "metadata": {},
   "outputs": [],
   "source": [
    "conn = sql.connect(WATCH_HIST_DB)\n",
    "cur = conn.cursor()"
   ]
  },
  {
   "cell_type": "code",
   "execution_count": 4,
   "id": "b8d4ec98-3c49-4467-99b8-b90a61c81fe7",
   "metadata": {},
   "outputs": [],
   "source": [
    "cur.execute(\"\"\"SELECT title, channel, COUNT(*) AS views\n",
    "    FROM yt_watch_hist\n",
    "    GROUP BY link\n",
    "    ORDER BY views DESC\n",
    "    LIMIT 10;\n",
    "    \"\"\")\n",
    "most_watched = cur.fetchall()"
   ]
  },
  {
   "cell_type": "code",
   "execution_count": 5,
   "id": "a9e33072-9695-4712-a6f4-66a67192a0e7",
   "metadata": {},
   "outputs": [
    {
     "name": "stdout",
     "output_type": "stream",
     "text": [
      "Tame Impala - One More Hour (Official Audio): 16 views | from channel: tameimpalaVEVO\n",
      "Glass Animals - Toes (Official Audio): 15 views | from channel: Glass Animals\n",
      "Glass Animals - Take A Slice (Fan Lyric Video): 14 views | from channel: GlassAnimalsVEVO\n",
      "When I Was Done Dying: 12 views | from channel: Dan Deacon - Topic\n",
      "alt-J - Deadcrush (Official Video): 12 views | from channel: alt-J\n",
      "8.01x - Introduction: 10 views | from channel: Lectures by Walter Lewin. They will make you Physics.\n",
      "FOALS - What Went Down [Official Music Video]: 10 views | from channel: Foals\n",
      "Hozier - Too Sweet (Official Lyric Video): 9 views | from channel: Hozier\n",
      "Starsector Review | Explore the Cosmos | Ruin Everything: 9 views | from channel: SsethTzeentach\n",
      "Glass Animals - Pork Soda (Official Audio): 9 views | from channel: GlassAnimalsVEVO\n"
     ]
    }
   ],
   "source": [
    "for title, channel, views in most_watched:\n",
    "    print(f\"{title}: {views} views | from channel: {channel}\")"
   ]
  },
  {
   "cell_type": "code",
   "execution_count": 6,
   "id": "afe88336-79b1-4189-ac18-7b63d3acfd99",
   "metadata": {},
   "outputs": [],
   "source": [
    "conn.close()"
   ]
  },
  {
   "cell_type": "code",
   "execution_count": null,
   "id": "2992e2c4-3345-491d-affd-dac5598523c3",
   "metadata": {},
   "outputs": [],
   "source": []
  }
 ],
 "metadata": {
  "kernelspec": {
   "display_name": "Python 3 (Spyder)",
   "language": "python3",
   "name": "python3"
  },
  "language_info": {
   "codemirror_mode": {
    "name": "ipython",
    "version": 3
   },
   "file_extension": ".py",
   "mimetype": "text/x-python",
   "name": "python",
   "nbconvert_exporter": "python",
   "pygments_lexer": "ipython3",
   "version": "3.13.2"
  }
 },
 "nbformat": 4,
 "nbformat_minor": 5
}
