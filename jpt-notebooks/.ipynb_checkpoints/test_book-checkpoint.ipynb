{
 "cells": [
  {
   "cell_type": "code",
   "execution_count": 4,
   "id": "eea1a46c-6e5e-4e98-af2d-cd8a48c65359",
   "metadata": {},
   "outputs": [],
   "source": [
    "from bs4 import BeautifulSoup, SoupStrainer\n",
    "from datetime import datetime\n",
    "import dateparser\n",
    "import sqlite3\n",
    "from pympler import asizeof\n",
    "from lxml import etree"
   ]
  },
  {
   "cell_type": "code",
   "execution_count": 3,
   "id": "e03d4ee8-e9ff-4837-a48c-ea1ca2e19ecf",
   "metadata": {},
   "outputs": [],
   "source": [
    "WATCH_HIST = \"/home/ulhvit/Storage/KD-Shadowfeed/KD-Shadowfeed/data/watch_hist.html\""
   ]
  },
  {
   "cell_type": "code",
   "execution_count": 2,
   "id": "da69569a-69f5-4870-8092-973e46e12ff3",
   "metadata": {},
   "outputs": [],
   "source": [
    "#con = sqlite3.connect(\"/home/ulhvit/Storage/KD-Shadowfeed/KD-Shadowfeed/db/yt_watch_history.db\")\n",
    "#cur = con.cursor()"
   ]
  },
  {
   "cell_type": "code",
   "execution_count": 3,
   "id": "d77cd7a0-c37c-4e92-8ebe-4d5fb3de0736",
   "metadata": {},
   "outputs": [],
   "source": [
    "#Extraction"
   ]
  },
  {
   "cell_type": "code",
   "execution_count": 4,
   "id": "a79bf610-c4f3-4d55-89fa-0a5acbb9d2be",
   "metadata": {},
   "outputs": [],
   "source": [
    "only_content_cells = SoupStrainer(class_='content-cell mdl-cell mdl-cell--6-col mdl-typography--body-1')"
   ]
  },
  {
   "cell_type": "code",
   "execution_count": 5,
   "id": "44cd86cc-5dcc-49c4-b74b-ac5e7302cece",
   "metadata": {},
   "outputs": [],
   "source": [
    "with open(\"/home/ulhvit/Storage/KD-Shadowfeed/KD-Shadowfeed/data/watch_hist.html\") as f:\n",
    "    soup = BeautifulSoup(f, \"lxml\", parse_only=only_content_cells)"
   ]
  },
  {
   "cell_type": "code",
   "execution_count": 30,
   "id": "fea6436f-fb8b-4d1c-951f-3afdbc0671fc",
   "metadata": {},
   "outputs": [],
   "source": [
    "def prettyprint(element, **kwargs):\n",
    "    xml = etree.tostring(element, pretty_print=True, **kwargs)\n",
    "    print(xml.decode(), end='')"
   ]
  },
  {
   "cell_type": "code",
   "execution_count": 1,
   "id": "e993c03c-6d14-4ba9-9a10-792df6efe482",
   "metadata": {},
   "outputs": [],
   "source": [
    "def extract_watch_data(WATCH_HIST):\n",
    "    target_class = \"content-cell mdl-cell mdl-cell--6-col mdl-typography--body-1\"\n",
    "    context = etree.iterparse(WATCH_HIST, html=True, tag=\"div\")\n",
    "    for _, thing in context:\n",
    "        if thing.attrib.get(\"class\", \"\").strip() == target_class:\n",
    "            first_a = thing.find(\".//a\")\n",
    "            watched_vid_link = first_a.attrib.get(\"href\",'')\n",
    "            text_in_cell = list(thing.itertext())\n",
    "            list_for_sql = [watched_vid_link] + text_in_cell\n",
    "            yield list_for_sql\n",
    "    # ---------------- MEMORY CLEANS -----------------\n",
    "        thing.clear() # Clear the current element's children.\n",
    "        while thing.getprevious() is not None: # Remove references to all previous siblings of the element\n",
    "            del thing.getparent()[0]\n",
    "    del context        "
   ]
  },
  {
   "cell_type": "code",
   "execution_count": 5,
   "id": "3106bd51-cd94-4625-9e83-de500fc95347",
   "metadata": {},
   "outputs": [
    {
     "name": "stderr",
     "output_type": "stream",
     "text": [
      "/tmp/ipykernel_4540/737799860.py:3: DeprecationWarning: The 'strip_cdata' option of HTMLParser() has never done anything and will eventually be removed.\n",
      "  context = etree.iterparse(WATCH_HIST, html=True, tag=\"div\")\n"
     ]
    },
    {
     "name": "stdout",
     "output_type": "stream",
     "text": [
      "['https://www.youtube.com/watch?v=pRqJ-hGKpcc', 'Obejrzano:Â\\xa0', 'Westworld scenes of Dr  Robert Ford (Part 2)', 'camai', '23 lip 2025, 17:04:10 CEST']\n",
      "['https://www.youtube.com/watch?v=hV2Q41o-rwE', 'Obejrzano:Â\\xa0', 'Westworld scenes of Dr. Robert Ford (Part 1)', 'camai', '23 lip 2025, 15:52:43 CEST']\n",
      "['https://www.youtube.com/watch?v=DgyKBO-6Qtc', 'Obejrzano:Â\\xa0', '[Westworld] Ford \"Goodbye my friend\"', 'Westworld Best Scenes', '23 lip 2025, 15:47:53 CEST']\n",
      "['https://www.youtube.com/watch?v=Z7NF9Q6_BUg', 'Obejrzano:Â\\xa0', '\"Call The Cops!\" #standup #crowdwork #hecklers #jimmycarr #roasts', 'More Jimmy Carr', '23 lip 2025, 15:46:25 CEST']\n",
      "['https://www.youtube.com/watch?v=13wGuxAydiU', 'Obejrzano:Â\\xa0', '@logaagm  #cucumber #cucumbersalad #jalepeÃ±opoppers', 'The Plant Slant', '23 lip 2025, 15:46:24 CEST']\n",
      "['https://www.youtube.com/watch?v=fLQVVkFKLR8', 'Obejrzano:Â\\xa0', \"That sounds like Alzheimer's.#shorts\", 'Editchanber', '23 lip 2025, 15:45:23 CEST']\n"
     ]
    }
   ],
   "source": [
    "counter = 0\n",
    "for list_ in extract_watch_data(WATCH_HIST):\n",
    "    if counter <=5:\n",
    "        print(list_)\n",
    "        counter+=1"
   ]
  },
  {
   "cell_type": "code",
   "execution_count": 6,
   "id": "d4f1b18a-81f2-4054-bb1f-b9d1f576986e",
   "metadata": {},
   "outputs": [
    {
     "name": "stdout",
     "output_type": "stream",
     "text": [
      "52.277435302734375 MiB\n"
     ]
    }
   ],
   "source": [
    "print(asizeof.asizeof(soup) / (1024**2), \"MiB\")"
   ]
  },
  {
   "cell_type": "code",
   "execution_count": 10,
   "id": "398e4fba-fd99-46b3-a257-b96bd62b090d",
   "metadata": {},
   "outputs": [
    {
     "name": "stdout",
     "output_type": "stream",
     "text": [
      "Obejrzano: \n",
      "Westworld scenes of Dr. Robert Ford (Part 1)\n",
      "camai\n",
      "23 lip 2025, 15:52:43 CEST\n",
      "Obejrzano: \n",
      "[Westworld] Ford \"Goodbye my friend\"\n",
      "Westworld Best Scenes\n",
      "23 lip 2025, 15:47:53 CEST\n"
     ]
    }
   ],
   "source": [
    "#content_cell = soup.div.next_sibling\n",
    "count = 0\n",
    "#print(soup.div.prettify())\n",
    "for div in soup.div.next_siblings:\n",
    "    if count <= 1:\n",
    "        for child in div.children:\n",
    "            if child.string is not None:\n",
    "                print(child.string)\n",
    "        count+=1\n",
    "        \n",
    "    else:\n",
    "        break"
   ]
  },
  {
   "cell_type": "code",
   "execution_count": null,
   "id": "2a1720b2-a8a8-477c-97b9-27d46b53d4d4",
   "metadata": {},
   "outputs": [],
   "source": []
  },
  {
   "cell_type": "code",
   "execution_count": null,
   "id": "326390cd-b96a-4406-967b-6f76556d4eff",
   "metadata": {},
   "outputs": [],
   "source": [
    "#Transform"
   ]
  },
  {
   "cell_type": "code",
   "execution_count": null,
   "id": "be4ce08b-6e14-4681-8854-735a67bdb2b3",
   "metadata": {},
   "outputs": [],
   "source": [
    "vid_data_links = [link['href'] for link in vid_data.find_all(\"a\")]"
   ]
  },
  {
   "cell_type": "code",
   "execution_count": null,
   "id": "7a234bad-75a2-4943-a8c4-b33b075829dc",
   "metadata": {},
   "outputs": [],
   "source": [
    "vid_data_text = [text for text in vid_data.stripped_strings]\n",
    "print(vid_data_text)"
   ]
  },
  {
   "cell_type": "code",
   "execution_count": null,
   "id": "01198399-b741-4b15-9666-1e59b61b7105",
   "metadata": {},
   "outputs": [],
   "source": []
  }
 ],
 "metadata": {
  "kernelspec": {
   "display_name": "Python 3 (Spyder)",
   "language": "python3",
   "name": "python3"
  },
  "language_info": {
   "codemirror_mode": {
    "name": "ipython",
    "version": 3
   },
   "file_extension": ".py",
   "mimetype": "text/x-python",
   "name": "python",
   "nbconvert_exporter": "python",
   "pygments_lexer": "ipython3",
   "version": "3.13.2"
  }
 },
 "nbformat": 4,
 "nbformat_minor": 5
}
